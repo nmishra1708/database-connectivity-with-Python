{
 "cells": [
  {
   "cell_type": "code",
   "execution_count": 1,
   "metadata": {},
   "outputs": [],
   "source": [
    "import mysql.connector as mysql"
   ]
  },
  {
   "cell_type": "code",
   "execution_count": 2,
   "metadata": {},
   "outputs": [],
   "source": [
    "my_db = mysql.connect(host=\"localhost\", user=\"root\", password=\"123456\", database=\"intell\")"
   ]
  },
  {
   "cell_type": "code",
   "execution_count": 3,
   "metadata": {},
   "outputs": [],
   "source": [
    "my_cursor = my_db.cursor()"
   ]
  },
  {
   "cell_type": "code",
   "execution_count": 4,
   "metadata": {},
   "outputs": [],
   "source": [
    "my_cursor.execute(\"Show databases\")"
   ]
  },
  {
   "cell_type": "code",
   "execution_count": 5,
   "metadata": {},
   "outputs": [
    {
     "name": "stdout",
     "output_type": "stream",
     "text": [
      "('information_schema',)\n",
      "('intell',)\n",
      "('mysql',)\n",
      "('performance_schema',)\n",
      "('sakila',)\n",
      "('sys',)\n",
      "('university',)\n",
      "('university1',)\n",
      "('world',)\n"
     ]
    }
   ],
   "source": [
    "for i in my_cursor:\n",
    "    print(i)"
   ]
  },
  {
   "cell_type": "code",
   "execution_count": 6,
   "metadata": {},
   "outputs": [],
   "source": [
    "my_cursor.execute(\"Show tables\")"
   ]
  },
  {
   "cell_type": "code",
   "execution_count": 7,
   "metadata": {},
   "outputs": [
    {
     "name": "stdout",
     "output_type": "stream",
     "text": [
      "('hello',)\n"
     ]
    }
   ],
   "source": [
    "for i in my_cursor:\n",
    "    print(i)"
   ]
  },
  {
   "cell_type": "code",
   "execution_count": 8,
   "metadata": {},
   "outputs": [],
   "source": [
    "# Inserting Single line data\n",
    "sql = \"insert into hello(h1, h2) values (%s, %s)\""
   ]
  },
  {
   "cell_type": "code",
   "execution_count": 9,
   "metadata": {},
   "outputs": [],
   "source": [
    "val = (111, \"mohan\")"
   ]
  },
  {
   "cell_type": "code",
   "execution_count": 10,
   "metadata": {},
   "outputs": [],
   "source": [
    "my_cursor.execute(sql, val)"
   ]
  },
  {
   "cell_type": "code",
   "execution_count": 11,
   "metadata": {},
   "outputs": [],
   "source": [
    "my_db.commit()"
   ]
  },
  {
   "cell_type": "code",
   "execution_count": 12,
   "metadata": {},
   "outputs": [],
   "source": [
    "my_cursor.execute(\"select * from hello\")"
   ]
  },
  {
   "cell_type": "code",
   "execution_count": 13,
   "metadata": {},
   "outputs": [
    {
     "name": "stdout",
     "output_type": "stream",
     "text": [
      "(10000, 'John')\n",
      "(102, 'John1')\n",
      "(103, 'harry')\n",
      "(111, 'mohan')\n"
     ]
    }
   ],
   "source": [
    "for i in my_cursor:\n",
    "    print(i)"
   ]
  },
  {
   "cell_type": "code",
   "execution_count": 14,
   "metadata": {},
   "outputs": [],
   "source": [
    "# Inserting Multiple Line Data \n",
    "sql = \"insert into hello(h1, h2) values(%s, %s)\""
   ]
  },
  {
   "cell_type": "code",
   "execution_count": 15,
   "metadata": {},
   "outputs": [],
   "source": [
    "val = [(101,\"John\"),(102,\"John1\"),(103, \"harry\")]"
   ]
  },
  {
   "cell_type": "code",
   "execution_count": 16,
   "metadata": {},
   "outputs": [],
   "source": [
    "my_cursor.executemany(sql, val)"
   ]
  },
  {
   "cell_type": "code",
   "execution_count": 17,
   "metadata": {},
   "outputs": [],
   "source": [
    "my_db.commit()"
   ]
  },
  {
   "cell_type": "code",
   "execution_count": 18,
   "metadata": {},
   "outputs": [],
   "source": [
    "my_cursor.execute(\"select * from hello\")"
   ]
  },
  {
   "cell_type": "code",
   "execution_count": 19,
   "metadata": {},
   "outputs": [
    {
     "name": "stdout",
     "output_type": "stream",
     "text": [
      "(10000, 'John')\n",
      "(102, 'John1')\n",
      "(103, 'harry')\n",
      "(111, 'mohan')\n",
      "(101, 'John')\n",
      "(102, 'John1')\n",
      "(103, 'harry')\n"
     ]
    }
   ],
   "source": [
    "for i in my_cursor:\n",
    "    print(i)"
   ]
  },
  {
   "cell_type": "code",
   "execution_count": 20,
   "metadata": {},
   "outputs": [],
   "source": [
    "# updating Data\n",
    "my_cursor.execute(\"update hello set h1=10000 where h2='john'\")"
   ]
  },
  {
   "cell_type": "code",
   "execution_count": 21,
   "metadata": {},
   "outputs": [],
   "source": [
    "my_cursor.execute(\"select * from hello\")"
   ]
  },
  {
   "cell_type": "code",
   "execution_count": 22,
   "metadata": {},
   "outputs": [
    {
     "name": "stdout",
     "output_type": "stream",
     "text": [
      "(10000, 'John')\n",
      "(102, 'John1')\n",
      "(103, 'harry')\n",
      "(111, 'mohan')\n",
      "(10000, 'John')\n",
      "(102, 'John1')\n",
      "(103, 'harry')\n"
     ]
    }
   ],
   "source": [
    "for i in my_cursor:\n",
    "    print(i)"
   ]
  },
  {
   "cell_type": "code",
   "execution_count": 23,
   "metadata": {},
   "outputs": [],
   "source": [
    "# deleting values\n",
    "my_cursor.execute(\"delete from hello where h1=111\")"
   ]
  },
  {
   "cell_type": "code",
   "execution_count": 24,
   "metadata": {},
   "outputs": [],
   "source": [
    "my_db.commit()"
   ]
  },
  {
   "cell_type": "code",
   "execution_count": 25,
   "metadata": {},
   "outputs": [],
   "source": [
    "my_cursor.execute(\"select * from hello\")"
   ]
  },
  {
   "cell_type": "code",
   "execution_count": 26,
   "metadata": {},
   "outputs": [
    {
     "name": "stdout",
     "output_type": "stream",
     "text": [
      "(10000, 'John')\n",
      "(102, 'John1')\n",
      "(103, 'harry')\n",
      "(10000, 'John')\n",
      "(102, 'John1')\n",
      "(103, 'harry')\n"
     ]
    }
   ],
   "source": [
    "for i in my_cursor:\n",
    "    print(i)"
   ]
  },
  {
   "cell_type": "markdown",
   "metadata": {},
   "source": [
    "## Assignment: Basic understanding of MYSQL Database with PYTHON"
   ]
  },
  {
   "cell_type": "code",
   "execution_count": 2,
   "metadata": {},
   "outputs": [],
   "source": [
    "# Assignmnet-1 \n",
    "# 1. Create the database University1\n",
    "# 2. Create table name Students\n",
    "# 3. Insert the values inside the table\n",
    "   \n",
    "#     (CS1 - John - CSE - 24),\n",
    "#     (CS2 - Mohan - CSE - 23),\n",
    "#     (CS3 - Rajiv - CSE - 22),\n",
    "#     (CS4 - Poonam - CSE - 21),\n",
    "#     (CS4 - Bikki - CSE - 23)\n",
    "\n",
    "# 4. Update the branch of \"CS2\" to \"IT\"\n",
    "# 5. Delete the record of 'Bikki'\n",
    "# 6. Show the updated record of student"
   ]
  },
  {
   "cell_type": "code",
   "execution_count": 3,
   "metadata": {},
   "outputs": [],
   "source": [
    "# Import necessary library\n",
    "import mysql.connector as mysql"
   ]
  },
  {
   "cell_type": "code",
   "execution_count": 11,
   "metadata": {},
   "outputs": [],
   "source": [
    "# MYSQL Connection establishment to PYTHON\n",
    "my_db = mysql.connect(host=\"localhost\", user=\"root\", password=\"123456\", database=\"university1\")"
   ]
  },
  {
   "cell_type": "code",
   "execution_count": 12,
   "metadata": {},
   "outputs": [],
   "source": [
    "# Create the cursor for data base\n",
    "my_cursor = my_db.cursor()"
   ]
  },
  {
   "cell_type": "code",
   "execution_count": 6,
   "metadata": {},
   "outputs": [],
   "source": [
    "# # Create Database -> university\n",
    "# my_cursor.execute(\"create database University1\")"
   ]
  },
  {
   "cell_type": "code",
   "execution_count": 7,
   "metadata": {},
   "outputs": [],
   "source": [
    "# Use data base-> university\n",
    "# my_cursor.execute(\"use University1\")"
   ]
  },
  {
   "cell_type": "code",
   "execution_count": 13,
   "metadata": {},
   "outputs": [],
   "source": [
    "# Show the database\n",
    "my_cursor.execute(\"show databases\")"
   ]
  },
  {
   "cell_type": "code",
   "execution_count": 14,
   "metadata": {},
   "outputs": [
    {
     "name": "stdout",
     "output_type": "stream",
     "text": [
      "('information_schema',)\n",
      "('intell',)\n",
      "('mysql',)\n",
      "('performance_schema',)\n",
      "('sakila',)\n",
      "('sys',)\n",
      "('university',)\n",
      "('university1',)\n",
      "('world',)\n"
     ]
    }
   ],
   "source": [
    "for i in my_cursor:\n",
    "    print(i)"
   ]
  },
  {
   "cell_type": "code",
   "execution_count": 16,
   "metadata": {},
   "outputs": [],
   "source": [
    "# Create table for University1 Database\n",
    "# my_cursor.execute(\"create table student(s_roll varchar(20), s_name varchar(50), s_branch varchar(20),s_age int)\")"
   ]
  },
  {
   "cell_type": "code",
   "execution_count": 17,
   "metadata": {},
   "outputs": [],
   "source": [
    "# Commit the table \n",
    "my_db.commit()"
   ]
  },
  {
   "cell_type": "code",
   "execution_count": 18,
   "metadata": {},
   "outputs": [],
   "source": [
    "# Show the tables\n",
    "my_cursor.execute(\"show tables\")"
   ]
  },
  {
   "cell_type": "code",
   "execution_count": 19,
   "metadata": {},
   "outputs": [
    {
     "name": "stdout",
     "output_type": "stream",
     "text": [
      "('student',)\n"
     ]
    }
   ],
   "source": [
    "# Loop for print the name of tables\n",
    "for i in my_cursor:\n",
    "    print(i)"
   ]
  },
  {
   "cell_type": "code",
   "execution_count": 20,
   "metadata": {},
   "outputs": [],
   "source": [
    "# Inserting Multiple Line Data \n",
    "sql = \"insert into student(s_roll, s_name, s_branch, s_age) values(%s, %s, %s, %s)\"\n",
    "val = [ (\"CS1\",\"John\",\"CSE\",24),\n",
    "    (\"CS2\",\"Mohan\",\"CSE\",23),\n",
    "    (\"CS3\",\"Rajiv\",\"CSE\",22),\n",
    "    (\"CS4\",\"Poonam\",\"CSE\",21),\n",
    "    (\"CS4\",\"Bikki\",\"CSE\",23)]"
   ]
  },
  {
   "cell_type": "code",
   "execution_count": 21,
   "metadata": {},
   "outputs": [],
   "source": [
    "# Execute query for insert data on the bases of 'val' list\n",
    "my_cursor.executemany(sql, val)"
   ]
  },
  {
   "cell_type": "code",
   "execution_count": 22,
   "metadata": {},
   "outputs": [],
   "source": [
    "# Commited the inserted record \n",
    "my_db.commit()"
   ]
  },
  {
   "cell_type": "code",
   "execution_count": 23,
   "metadata": {},
   "outputs": [],
   "source": [
    "# glance of inserted record\n",
    "my_cursor.execute(\"select * from student\")"
   ]
  },
  {
   "cell_type": "code",
   "execution_count": 24,
   "metadata": {},
   "outputs": [
    {
     "name": "stdout",
     "output_type": "stream",
     "text": [
      "('CS1', 'John', 'CSE', 24)\n",
      "('CS2', 'Mohan', 'CSE', 23)\n",
      "('CS3', 'Rajiv', 'CSE', 22)\n",
      "('CS4', 'Poonam', 'CSE', 21)\n",
      "('CS4', 'Bikki', 'CSE', 23)\n"
     ]
    }
   ],
   "source": [
    "for i in my_cursor:\n",
    "    print(i)"
   ]
  },
  {
   "cell_type": "code",
   "execution_count": 25,
   "metadata": {},
   "outputs": [],
   "source": [
    "my_cursor.execute(\"update student set s_branch = 'IT' where s_roll = 'CS2' \" )"
   ]
  },
  {
   "cell_type": "code",
   "execution_count": 26,
   "metadata": {},
   "outputs": [],
   "source": [
    "my_db.commit()"
   ]
  },
  {
   "cell_type": "code",
   "execution_count": 27,
   "metadata": {},
   "outputs": [
    {
     "name": "stdout",
     "output_type": "stream",
     "text": [
      "('CS1', 'John', 'CSE', 24)\n",
      "('CS2', 'Mohan', 'IT', 23)\n",
      "('CS3', 'Rajiv', 'CSE', 22)\n",
      "('CS4', 'Poonam', 'CSE', 21)\n",
      "('CS4', 'Bikki', 'CSE', 23)\n"
     ]
    }
   ],
   "source": [
    "my_cursor.execute(\"select * from student\")\n",
    "for i in my_cursor:\n",
    "    print(i)"
   ]
  },
  {
   "cell_type": "code",
   "execution_count": 28,
   "metadata": {},
   "outputs": [],
   "source": [
    "my_cursor.execute(\"delete from student where s_name = 'Bikki'\")"
   ]
  },
  {
   "cell_type": "code",
   "execution_count": 29,
   "metadata": {},
   "outputs": [],
   "source": [
    "my_db.commit()"
   ]
  },
  {
   "cell_type": "code",
   "execution_count": 30,
   "metadata": {},
   "outputs": [
    {
     "name": "stdout",
     "output_type": "stream",
     "text": [
      "('CS1', 'John', 'CSE', 24)\n",
      "('CS2', 'Mohan', 'IT', 23)\n",
      "('CS3', 'Rajiv', 'CSE', 22)\n",
      "('CS4', 'Poonam', 'CSE', 21)\n"
     ]
    }
   ],
   "source": [
    "my_cursor.execute(\"select * from student\")\n",
    "for i in my_cursor:\n",
    "    print(i)"
   ]
  },
  {
   "cell_type": "code",
   "execution_count": null,
   "metadata": {},
   "outputs": [],
   "source": []
  }
 ],
 "metadata": {
  "kernelspec": {
   "display_name": "Python 3",
   "language": "python",
   "name": "python3"
  },
  "language_info": {
   "codemirror_mode": {
    "name": "ipython",
    "version": 3
   },
   "file_extension": ".py",
   "mimetype": "text/x-python",
   "name": "python",
   "nbconvert_exporter": "python",
   "pygments_lexer": "ipython3",
   "version": "3.7.5"
  }
 },
 "nbformat": 4,
 "nbformat_minor": 2
}
